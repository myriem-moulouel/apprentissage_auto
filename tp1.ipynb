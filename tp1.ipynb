{
 "cells": [
  {
   "cell_type": "code",
   "execution_count": 12,
   "metadata": {},
   "outputs": [],
   "source": [
    "import numpy as np\n",
    "import gzip\n",
    "import pickle\n",
    "import collections\n",
    "import sklearn.datasets\n",
    "\n",
    "import matplotlib.pyplot as plt\n",
    "%matplotlib inline\n",
    "import math"
   ]
  },
  {
   "cell_type": "markdown",
   "metadata": {},
   "source": [
    "# TP : Perceptron\n",
    "\n",
    "L'objectif de TP est d'implémenter deux variantes du perceptrons pour la classification:\n",
    "\n",
    "- le perceptron binaire\n",
    "- le perceptron multiclasse\n",
    "\n",
    "## Perceptron binaire"
   ]
  },
  {
   "cell_type": "code",
   "execution_count": 8,
   "metadata": {},
   "outputs": [
    {
     "name": "stdout",
     "output_type": "stream",
     "text": [
      "400 100 100\n"
     ]
    }
   ],
   "source": [
    "# création des données\n",
    "\n",
    "n_train = 400\n",
    "n_dev = 100\n",
    "n_test = 100\n",
    "\n",
    "X, Y = sklearn.datasets.make_classification(\n",
    "    n_samples=n_train + n_dev + n_test,\n",
    "    n_features=2,\n",
    "    n_redundant=0,\n",
    "    n_classes=2,\n",
    "    class_sep=1.5\n",
    ")\n",
    "\n",
    "# on transforme les labels pour qu'ils soient entre -1 et 1\n",
    "Y = Y * 2 - 1\n",
    "\n",
    "# split dataset\n",
    "X_train = X[:n_train]\n",
    "Y_train = Y[:n_train]\n",
    "X_dev = X[n_train:n_train+n_dev]\n",
    "Y_dev = Y[n_train:n_train+n_dev]\n",
    "X_test = X[n_train+n_dev:]\n",
    "Y_test = Y[n_train+n_dev:]\n",
    "\n",
    "print(len(Y_train), len(Y_dev), len(Y_test))"
   ]
  },
  {
   "cell_type": "code",
   "execution_count": 10,
   "metadata": {},
   "outputs": [
    {
     "data": {
      "text/plain": [
       "<matplotlib.collections.PathCollection at 0x7f445bff76d0>"
      ]
     },
     "execution_count": 10,
     "metadata": {},
     "output_type": "execute_result"
    },
    {
     "data": {
      "image/png": "[encoded data removed]",
      "text/plain": [
       "<Figure size 432x288 with 1 Axes>"
      ]
     },
     "metadata": {
      "needs_background": "light"
     },
     "output_type": "display_data"
    }
   ],
   "source": [
    "# Affiche les données d'entrainement\n",
    "plt.scatter(X_train[Y_train == -1, 0], X_train[Y_train == -1, 1], c=\"red\")\n",
    "plt.scatter(X_train[Y_train == 1, 0], X_train[Y_train == 1, 1], c=\"blue\")"
   ]
  },
  {
   "cell_type": "markdown",
   "metadata": {},
   "source": [
    "Nous allons créer une classe qui contient toutes les fonctions dont nous avons besoin.\n",
    "\n",
    "- Implémentez les méthodes dans l'ordre, mais je conseille de ne pas directement compléter le code : tester d'abord en prototypant rapidement, comme je l'ai fait pour l'algo du plus proche voisin, et une fois qu'une fonction a l'air de marcher, vous l'incluez dans le code de la classe et passez à la fonction méthodes suivante \n",
    "- Pour la fonction pred_batch, ne faite pas de boucle!\n",
    "- Quand vous prototypez, pensez bien à la question des dimensions, affichez les dimensions de vos tenseurs entre les opérations, etc.\n",
    "- Pour la fonction fit, écrivez d'abord l'entrainement qui enregistre simplement les paramêtres de la dernières epoch. Une fois que ça marche, modifiez pour enregistrer les paramêtres qui ont obtenus les meilleurs résultats sur le dev"
   ]
  },
  {
   "cell_type": "code",
   "execution_count": 69,
   "metadata": {},
   "outputs": [],
   "source": [
    "class BinaryPerceptron:\n",
    "    def __init__(self, feature_size):\n",
    "        self.feature_size = feature_size\n",
    "        self.a = np.array([0,0])\n",
    "        self.b = 0\n",
    "        self.best_a = np.array([0,0])\n",
    "        self.best_b = 0\n",
    "        \n",
    "    # predicting the output for a single datapoint\n",
    "    def pred(self, x):\n",
    "        if len(x.shape) != 1:\n",
    "            raise RuntimeError(\"1D tensor expected!\")\n",
    "        x_array = np.array(x)\n",
    "        pred = x_array @ self.a + self.b\n",
    "        \n",
    "        return (pred>=0)*2-1\n",
    "    \n",
    "    # predict the outout for a batch of datapoints\n",
    "    # shape of input X: (n datapoints, feature_size)\n",
    "    # shape of output Y: (n datapoints, )\n",
    "    def pred_batch(self, X):\n",
    "        if len(X.shape) != 2 or X.shape[1] != self.feature_size:\n",
    "            raise RuntimeError(\"Invalid input shape\")\n",
    "            \n",
    "        Y_pred = []\n",
    "        for i in range(len(X)):\n",
    "            pred = self.pred(X[i])\n",
    "            Y_pred.append(pred)\n",
    "        \n",
    "        return Y_pred\n",
    "    \n",
    "    # compute the accuracy of the model\n",
    "    # shape of input X: (n datapoints, feature_size)\n",
    "    # shape of input Y_gold: (n datapoints,)\n",
    "    # output type: scalar\n",
    "    def accuracy(self, X, Y_gold):\n",
    "        somme = 0\n",
    "        for i in range(len(Y_gold)):\n",
    "            if self.pred(X[i]) == Y_gold[i]:\n",
    "                somme+=1\n",
    "        acc = somme/len(Y_gold)\n",
    "        return acc\n",
    "        \n",
    "    # Entraine le modèle en utilisant les données en entrée\n",
    "    # Attention:\n",
    "    # - il faut commencez par réinitialiser les données!\n",
    "    # - retournez dans acc l'accuracy du modèle à chaque époch: qu'observez vous?\n",
    "    def fit(self, X_train, Y_train, X_dev, Y_dev, n_epoch=10):\n",
    "        self.a = self.best_a.copy()\n",
    "        self.b = self.best_b\n",
    "        accs = list()\n",
    "        accs.append(-math.inf)\n",
    "        for iteration in range(n_epoch):\n",
    "            Y_pred = self.pred_batch(X_train)\n",
    "            for i in range(len(Y_pred)):\n",
    "                yi = Y_train[i]\n",
    "                xi = X_train[i]\n",
    "                if Y_pred[i] != yi :\n",
    "                    self.a = self.a + yi*xi\n",
    "                    #print(self.a)\n",
    "                    self.b = self.b + yi\n",
    "            dev_acc = self.accuracy(X_dev, Y_dev)\n",
    "            print(max(accs))\n",
    "            if dev_acc > max(accs):\n",
    "                self.best_a = self.a.copy()\n",
    "                self.best_b = self.b\n",
    "                best_acc = dev_acc\n",
    "            accs.append(dev_acc)\n",
    "        \n",
    "        return accs"
   ]
  },
  {
   "cell_type": "code",
   "execution_count": 70,
   "metadata": {},
   "outputs": [
    {
     "name": "stdout",
     "output_type": "stream",
     "text": [
      "-inf\n",
      "0.94\n",
      "0.96\n",
      "0.96\n",
      "0.96\n",
      "0.96\n",
      "0.96\n",
      "0.96\n",
      "0.96\n",
      "0.96\n",
      "-177\n",
      "[ 46.53956689 236.04859833]\n"
     ]
    }
   ],
   "source": [
    "perceptron = BinaryPerceptron(2)\n",
    "accs = perceptron.fit(X_train, Y_train, X_dev, Y_dev)\n",
    "print(perceptron.best_b)\n",
    "print(perceptron.a)"
   ]
  },
  {
   "cell_type": "code",
   "execution_count": 72,
   "metadata": {},
   "outputs": [],
   "source": [
    "a = perceptron.best_a\n",
    "b = perceptron.best_b"
   ]
  },
  {
   "cell_type": "code",
   "execution_count": 71,
   "metadata": {},
   "outputs": [
    {
     "data": {
      "text/plain": [
       "<matplotlib.collections.PathCollection at 0x7f445ab45400>"
      ]
     },
     "execution_count": 71,
     "metadata": {},
     "output_type": "execute_result"
    },
    {
     "data": {
      "image/png": "[encoded data removed]",
      "text/plain": [
       "<Figure size 432x288 with 1 Axes>"
      ]
     },
     "metadata": {
      "needs_background": "light"
     },
     "output_type": "display_data"
    }
   ],
   "source": [
    "# Affiche les données d'entrainement\n",
    "liste = range(1000)\n",
    "X = [liste[i]*a[1]+b for i in ]\n",
    "plt.scatter(X_train[Y_train == -1, 0], X_train[Y_train == -1, 1], c=\"red\")\n",
    "plt.scatter(X_train[Y_train == 1, 0], X_train[Y_train == 1, 1], c=\"blue\")\n",
    "plt.scatter()"
   ]
  },
  {
   "cell_type": "code",
   "execution_count": 57,
   "metadata": {},
   "outputs": [
    {
     "data": {
      "text/plain": [
       "[-inf, 0.94, 0.96, 0.96, 0.96, 0.95, 0.95, 0.95, 0.95, 0.95, 0.95]"
      ]
     },
     "execution_count": 57,
     "metadata": {},
     "output_type": "execute_result"
    }
   ],
   "source": [
    "accs"
   ]
  },
  {
   "cell_type": "markdown",
   "metadata": {},
   "source": [
    "## Perceptron multiclasse\n",
    "\n",
    "On va maintenant développer un perceptron multiclasse, c'est-à-dire qu'on doit prédire une classe parmi k.\n",
    "On va générer encore une fois des données artificielles. Vous pouvez modifier la valeur de class_sep dans la génération pour rendre le problème plus facile."
   ]
  },
  {
   "cell_type": "code",
   "execution_count": null,
   "metadata": {},
   "outputs": [],
   "source": [
    "# génération des données pour le perceptron multiclasse\n",
    "n_train = 400\n",
    "n_dev = 100\n",
    "n_test = 100\n",
    "\n",
    "X, Y = sklearn.datasets.make_classification(\n",
    "    n_samples=n_train + n_dev + n_test,\n",
    "    n_features=10,\n",
    "    n_informative=9,\n",
    "    n_redundant=0,\n",
    "    n_classes=5,\n",
    "    # to make the problem easier,\n",
    "    # you can change the value here to 2 or even higher value\n",
    "    class_sep=1.5\n",
    ")\n",
    "\n",
    "# split dataset\n",
    "X_train = X[:n_train]\n",
    "Y_train = Y[:n_train]\n",
    "X_dev = X[n_train:n_train+n_dev]\n",
    "Y_dev = Y[n_train:n_train+n_dev]\n",
    "X_test = X[n_train+n_dev:]\n",
    "Y_test = Y[n_train+n_dev:]\n",
    "\n",
    "len(Y_train), len(Y_dev), len(Y_test)"
   ]
  },
  {
   "cell_type": "markdown",
   "metadata": {},
   "source": [
    "Et le code!\n",
    "\n",
    "Faite bien attention aux dimensions ! N'oubliez pas d'utiliser le broadcasting."
   ]
  },
  {
   "cell_type": "code",
   "execution_count": null,
   "metadata": {},
   "outputs": [],
   "source": [
    "A = np.random.rand(2, 4)\n",
    "B = np.random.rand(10, 4)\n",
    "C = A[None, :, :] @ B[:, :, None]\n",
    "print(C.shape)\n",
    "C = C.squeeze(2)\n",
    "print(C.shape)"
   ]
  },
  {
   "cell_type": "code",
   "execution_count": null,
   "metadata": {},
   "outputs": [],
   "source": [
    "class MulticlassPerceptron:\n",
    "    def __init__(self, n_classes, feature_size):\n",
    "        # TODO TODO\n",
    "        \n",
    "    def pred(self, x):\n",
    "        if len(x.shape) != 1:\n",
    "            raise RuntimeError()\n",
    "            \n",
    "        # TODO TODO\n",
    "        \n",
    "        return pred\n",
    "    \n",
    "    def pred_batch(self, X):\n",
    "        # TODO TODO\n",
    "        \n",
    "        return pred\n",
    "    \n",
    "    def accuracy(self, X, Y):\n",
    "        # TODO TODO\n",
    "        \n",
    "        return acc\n",
    "        \n",
    "    def fit(self, X_train, Y_train, X_dev, Y_dev, n_epoch=100):\n",
    "        accs = list()\n",
    "        \n",
    "        # TODO TODO\n",
    "        \n",
    "        return accs"
   ]
  },
  {
   "cell_type": "code",
   "execution_count": null,
   "metadata": {},
   "outputs": [],
   "source": [
    "# TODO: tester le modèle"
   ]
  },
  {
   "cell_type": "code",
   "execution_count": null,
   "metadata": {},
   "outputs": [],
   "source": []
  }
 ],
 "metadata": {
  "kernelspec": {
   "display_name": "Python 3",
   "language": "python",
   "name": "python3"
  },
  "language_info": {
   "codemirror_mode": {
    "name": "ipython",
    "version": 3
   },
   "file_extension": ".py",
   "mimetype": "text/x-python",
   "name": "python",
   "nbconvert_exporter": "python",
   "pygments_lexer": "ipython3",
   "version": "3.8.11"
  }
 },
 "nbformat": 4,
 "nbformat_minor": 2
}
