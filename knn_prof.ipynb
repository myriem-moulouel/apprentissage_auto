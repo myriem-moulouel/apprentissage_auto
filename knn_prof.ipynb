{
 "cells": [
  {
   "cell_type": "code",
   "execution_count": null,
   "metadata": {},
   "outputs": [],
   "source": [
    "import numpy as np\n",
    "import gzip\n",
    "import pickle\n",
    "from scipy.stats import rankdata\n",
    "import collections"
   ]
  },
  {
   "cell_type": "code",
   "execution_count": null,
   "metadata": {},
   "outputs": [],
   "source": [
    "# Chargement des données\n",
    "f = gzip.open('/Users/corro/notebook/proba_alternance/new/mnist.pkl.gz', 'rb')\n",
    "u = pickle._Unpickler(f)\n",
    "u.encoding = 'latin1'\n",
    "train_set, valid_set, test_set = u.load()\n",
    "\n",
    "# redimension pour accélerer un peu le tout\n",
    "def split_and_resize(data, dim=28):\n",
    "    X, Y = data\n",
    "    X = X.reshape(-1, dim, dim)[:, ::2, ::2].reshape(-1, int(dim*dim/4))\n",
    "    return X, Y\n",
    "\n",
    "X_train, Y_train = split_and_resize(train_set)\n",
    "X_test, Y_test = split_and_resize(test_set)\n",
    "\n",
    "print(X_train.shape, Y_train.shape)\n",
    "\n",
    "# On garde juste les 500 premières images du test,\n",
    "# just pour le prototypage, normalement il faudrait tout garder\n",
    "X_test = X_test[:500]\n",
    "Y_test = Y_test[:500]\n",
    "print(X_test.shape, Y_test.shape)"
   ]
  },
  {
   "cell_type": "code",
   "execution_count": null,
   "metadata": {},
   "outputs": [],
   "source": [
    "x = X_test[0]\n",
    "y = Y_test[0]\n",
    "\n",
    "print(x.shape, y.shape, y)"
   ]
  },
  {
   "cell_type": "markdown",
   "metadata": {},
   "source": [
    "# Classificateur plus proche voisin simple"
   ]
  },
  {
   "cell_type": "code",
   "execution_count": null,
   "metadata": {},
   "outputs": [],
   "source": [
    "class NNClassifier:\n",
    "    def __init__(self, X_train, Y_train):\n",
    "        self.X_train = X_train#.copy()\n",
    "        self.Y_train = Y_train#.copy()\n",
    "        \n",
    "    def predict(self, x):\n",
    "        dist = np.sum((self.X_train - x) ** 2, axis=1)\n",
    "        i_min = np.argmin(dist)\n",
    "        return self.Y_train[i_min]\n",
    "    \n",
    "    def accuracy(self, X, Y):\n",
    "        n_correct = 0\n",
    "        for i in range(X.shape[0]):\n",
    "            n_correct += Y[i] == self.predict(X[i])\n",
    "        return n_correct / X.shape[0]"
   ]
  },
  {
   "cell_type": "code",
   "execution_count": null,
   "metadata": {},
   "outputs": [],
   "source": [
    "c = NNClassifier(X_train, Y_train)\n",
    "c.accuracy(X_train[:500], Y_train[:500])"
   ]
  },
  {
   "cell_type": "code",
   "execution_count": null,
   "metadata": {},
   "outputs": [],
   "source": [
    "c.accuracy(X_test[:500], Y_test[:500])"
   ]
  },
  {
   "cell_type": "markdown",
   "metadata": {},
   "source": [
    "# Classificateur k-plus proches voisins"
   ]
  },
  {
   "cell_type": "code",
   "execution_count": null,
   "metadata": {},
   "outputs": [],
   "source": [
    "class KNNClassifier:\n",
    "    def __init__(self, k, X_train, Y_train):\n",
    "        self.k = k\n",
    "        self.X_train = X_train#.copy()\n",
    "        self.Y_train = Y_train#.copy()\n",
    "        \n",
    "    def predict(self, x):\n",
    "        dist = np.sum((self.X_train - x) ** 2, axis=1)\n",
    "        r = rankdata(dist).astype(np.long) - 1\n",
    "        knn = self.Y_train[r < self.k]\n",
    "\n",
    "        c = collections.Counter(knn)\n",
    "        #pred, _ = max(c.items(), key=lambda i: i[1])\n",
    "        pred = c.most_common()[0]\n",
    "        return pred\n",
    "    \n",
    "    def accuracy(self, X, Y):\n",
    "        n_correct = 0\n",
    "        for i in range(X.shape[0]):\n",
    "            n_correct += Y[i] == self.predict(X[i])\n",
    "        return n_correct / X.shape[0]\n",
    "    \n"
   ]
  },
  {
   "cell_type": "code",
   "execution_count": null,
   "metadata": {},
   "outputs": [],
   "source": [
    "k = 10\n",
    "c = KNNClassifier(k, X_train, Y_train)\n",
    "c.accuracy(X_train[:500], Y_train[:500])"
   ]
  },
  {
   "cell_type": "code",
   "execution_count": null,
   "metadata": {},
   "outputs": [],
   "source": [
    "c = KNNClassifier(k, X_train, Y_train)\n",
    "c.accuracy(X_test[:500], Y_test[:500])"
   ]
  },
  {
   "cell_type": "markdown",
   "metadata": {},
   "source": [
    "# Classificateur qui utilise un représentant moyen\n",
    "\n",
    "- version standard\n",
    "- version fonctionnant avec des \"batchs\" de données"
   ]
  },
  {
   "cell_type": "code",
   "execution_count": null,
   "metadata": {},
   "outputs": [],
   "source": [
    "class MeanClassifier:\n",
    "    def __init__(self, l, X_train, Y_train):\n",
    "        self.theta = np.empty((l, X_train.shape[1]))\n",
    "        for i in range(l):\n",
    "            self.theta[i] = np.mean(X_train[Y_train == i], axis=0)\n",
    "            \n",
    "    def predict(self, X):\n",
    "        score = np.sum(\n",
    "            (X[:, None, :] - self.theta[None, :, :]) ** 2,\n",
    "            axis=2\n",
    "        )\n",
    "        return np.argmin(score, axis=1)\n",
    "    \n",
    "    def accuracy(self, X, Y):\n",
    "        pred = self.predict(X)\n",
    "        return np.sum(pred == Y) / X.shape[0]"
   ]
  },
  {
   "cell_type": "code",
   "execution_count": null,
   "metadata": {},
   "outputs": [],
   "source": [
    "c = MeanClassifier(10, X_train, Y_train)\n",
    "c.accuracy(X_train[:500], Y_train[:500])"
   ]
  },
  {
   "cell_type": "code",
   "execution_count": null,
   "metadata": {},
   "outputs": [],
   "source": [
    "c.accuracy(X_test[:500], Y_test[:500])"
   ]
  },
  {
   "cell_type": "code",
   "execution_count": null,
   "metadata": {},
   "outputs": [],
   "source": [
    ".shape"
   ]
  },
  {
   "cell_type": "code",
   "execution_count": null,
   "metadata": {},
   "outputs": [],
   "source": []
  }
 ],
 "metadata": {
  "kernelspec": {
   "display_name": "Python 3",
   "language": "python",
   "name": "python3"
  },
  "language_info": {
   "codemirror_mode": {
    "name": "ipython",
    "version": 3
   },
   "file_extension": ".py",
   "mimetype": "text/x-python",
   "name": "python",
   "nbconvert_exporter": "python",
   "pygments_lexer": "ipython3",
   "version": "3.8.11"
  }
 },
 "nbformat": 4,
 "nbformat_minor": 2
}
